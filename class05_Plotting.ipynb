{
 "cells": [
  {
   "cell_type": "markdown",
   "metadata": {},
   "source": [
    "---\n",
    "\n",
    "# Data Mining:<br>Statistical Modeling and Learning from Data\n",
    "\n",
    "## Dr. Ciro Cattuto<br>Dr. Laetitia Gauvin<br>Dr. André Panisson\n",
    "\n",
    "### Exercises - Plotting\n",
    "\n",
    "---"
   ]
  },
  {
   "cell_type": "code",
   "execution_count": null,
   "metadata": {
    "collapsed": false
   },
   "outputs": [],
   "source": [
    "%pylab inline"
   ]
  },
  {
   "cell_type": "code",
   "execution_count": null,
   "metadata": {
    "collapsed": false
   },
   "outputs": [],
   "source": [
    "x = np.linspace(1,10,10)\n",
    "plt.plot(x, x/2.+1.)"
   ]
  },
  {
   "cell_type": "code",
   "execution_count": null,
   "metadata": {
    "collapsed": false
   },
   "outputs": [],
   "source": [
    "plt.plot(x, x/2.+1., 'go')"
   ]
  },
  {
   "cell_type": "code",
   "execution_count": null,
   "metadata": {
    "collapsed": false
   },
   "outputs": [],
   "source": [
    "from numpy.random import randn\n",
    "plt.plot(randn(50).cumsum(), 'k--')"
   ]
  },
  {
   "cell_type": "code",
   "execution_count": null,
   "metadata": {
    "collapsed": false
   },
   "outputs": [],
   "source": [
    "x = arange(-5, 5, 0.001)\n",
    "y= np.tan(x)\n",
    "plt.ylim((-20, 20))\n",
    "plt.xlim(-5,5)\n",
    "tanplot = plot(x,y)"
   ]
  },
  {
   "cell_type": "markdown",
   "metadata": {},
   "source": [
    "### Multiple plots and Labels"
   ]
  },
  {
   "cell_type": "code",
   "execution_count": null,
   "metadata": {
    "collapsed": false
   },
   "outputs": [],
   "source": [
    "fig = plt.figure()\n",
    "\n",
    "ax1 = fig.add_subplot(2, 2, 1) ## # colonne, # righe, e ordine\n",
    "ax2 = fig.add_subplot(2, 2, 2)\n",
    "ax3 = fig.add_subplot(2, 2, 3)\n",
    "ax4 = fig.add_subplot(2, 2, 4)\n",
    "\n",
    "ax1.hist(randn(100), bins=20, color='k', alpha=0.3)\n",
    "ax2.scatter(np.arange(30), np.arange(30) + 3 * randn(30))\n",
    "ax3.plot(randn(50).cumsum(), 'k--')\n",
    "ax4.plot(randn(50).cumsum(), 'b--')"
   ]
  },
  {
   "cell_type": "code",
   "execution_count": null,
   "metadata": {
    "collapsed": false
   },
   "outputs": [],
   "source": [
    "x = [1, 2, 3]\n",
    "y = [1, 4, 9]\n",
    "z = [4, 5, 6]\n",
    "plot(x, y, label='y')\n",
    "plot(x, z, label='z')\n",
    "plt.legend(loc='upper center')"
   ]
  },
  {
   "cell_type": "code",
   "execution_count": null,
   "metadata": {
    "collapsed": false
   },
   "outputs": [],
   "source": [
    "x = np.linspace(-10, 10, 200)\n",
    "y = np.cos(x)\n",
    "plt.plot(x, y, 'yo')\n",
    "plt.xlabel('x values')\n",
    "plt.ylabel('y values')\n",
    "plt.title('Plot of the cosine function.')"
   ]
  },
  {
   "cell_type": "markdown",
   "metadata": {},
   "source": [
    "## Histograms"
   ]
  },
  {
   "cell_type": "code",
   "execution_count": null,
   "metadata": {
    "collapsed": false
   },
   "outputs": [],
   "source": [
    "data = np.random.randn(500)    # 500 draws from the standard normal distribution\n",
    "h = plt.hist(data, bins=40, normed=True)"
   ]
  },
  {
   "cell_type": "code",
   "execution_count": null,
   "metadata": {
    "collapsed": false
   },
   "outputs": [],
   "source": [
    "data = np.random.randn(500)\n",
    "h = plt.hist(data, bins=40, normed=True)"
   ]
  },
  {
   "cell_type": "markdown",
   "metadata": {},
   "source": [
    "# Exercises"
   ]
  },
  {
   "cell_type": "markdown",
   "metadata": {},
   "source": [
    "Download this file: http://johnstachurski.net/lectures/_downloads/table.csv to your notebook folder.\n",
    "\n",
    "It contains daily quotes for the Nikkei 225 from Jan 1984 until May 2009, downloaded from Yahoo finance.\n",
    "\n",
    "\n",
    "Here are the first few lines\n",
    "\n",
    "    Date,Open,High,Low,Close,Volume,Adj Close\n",
    "    2009-05-21,9280.35,9286.35,9189.92,9264.15,133200,9264.15\n",
    "    2009-05-20,9372.72,9399.40,9311.61,9344.64,143200,9344.64\n",
    "    2009-05-19,9172.56,9326.75,9166.97,9290.29,167000,9290.29\n",
    "    2009-05-18,9167.05,9167.82,8997.74,9038.69,147800,9038.69\n",
    "    2009-05-15,9150.21,9272.08,9140.90,9265.02,172000,9265.02\n",
    "\n",
    "Data is comma separated (csv), with most recent date first\n",
    "\n",
    "For our price data we will use the last column (Adj Close)\n",
    "\n",
    "## Exercise 1:\n",
    "\n",
    "Plot the data (i.e., the Adj Close column) as a time series\n",
    "\n",
    "Use the csv reader to extract the data.\n",
    "You might like to use the following function:\n",
    "\n",
    "    to_date = lambda d: datetime.strptime(d,\"%Y-%m-%d\")\n",
    "\n",
    "\n",
    "Make sure your time series is from earliest (i.e., Jan 84) to latest (i.e., May 2009)"
   ]
  },
  {
   "cell_type": "code",
   "execution_count": null,
   "metadata": {
    "collapsed": true
   },
   "outputs": [],
   "source": [
    "import pandas as pd"
   ]
  },
  {
   "cell_type": "code",
   "execution_count": null,
   "metadata": {
    "collapsed": false
   },
   "outputs": [],
   "source": [
    "table = pd.read_csv('data/table.csv', parse_dates=['Date']).set_index('Date')"
   ]
  },
  {
   "cell_type": "code",
   "execution_count": null,
   "metadata": {
    "collapsed": false
   },
   "outputs": [],
   "source": [
    "# YOUR CODE HERE"
   ]
  },
  {
   "cell_type": "markdown",
   "metadata": {},
   "source": [
    "## Exercise 2:\n",
    "\n",
    "Write a function that\n",
    "\n",
    "takes a start year and an end year, and plots daily returns (as a percentage)\n",
    "\n",
    "Daily return = [(today - yesterday) / yesterday] * 100"
   ]
  },
  {
   "cell_type": "code",
   "execution_count": null,
   "metadata": {
    "collapsed": false
   },
   "outputs": [],
   "source": [
    "def daily_return(data):\n",
    "    # YOUR CODE HERE"
   ]
  },
  {
   "cell_type": "code",
   "execution_count": null,
   "metadata": {
    "collapsed": false
   },
   "outputs": [],
   "source": [
    "figure(figsize=(20,4))\n",
    "plt.plot(table.index[1:], daily_return(table['Adj Close'].values), 'b.')\n",
    "plt.title('Tokio stock exchange')"
   ]
  },
  {
   "cell_type": "code",
   "execution_count": null,
   "metadata": {
    "collapsed": false
   },
   "outputs": [],
   "source": []
  }
 ],
 "metadata": {
  "kernelspec": {
   "display_name": "Python 2",
   "language": "python",
   "name": "python2"
  },
  "language_info": {
   "codemirror_mode": {
    "name": "ipython",
    "version": 2
   },
   "file_extension": ".py",
   "mimetype": "text/x-python",
   "name": "python",
   "nbconvert_exporter": "python",
   "pygments_lexer": "ipython2",
   "version": "2.7.11"
  }
 },
 "nbformat": 4,
 "nbformat_minor": 0
}
